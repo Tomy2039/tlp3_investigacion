{
 "cells": [
  {
   "cell_type": "markdown",
   "id": "20b571ca",
   "metadata": {},
   "source": [
    "# Algoritmos de Ordenamiento: Insertion Sort y Bubble Sort\n",
    "\n",
    "En este cuaderno se investigará y explicará el funcionamiento de dos algoritmos clásicos de ordenamiento: **Insertion Sort** y **Bubble Sort**. Se incluye una explicación paso a paso y su implementación en Python con ejemplos prácticos.\n"
   ]
  },
  {
   "cell_type": "markdown",
   "id": "fa50ae2b",
   "metadata": {},
   "source": [
    "## Insertion Sort - Explicación Paso a Paso\n",
    "\n",
    "**Insertion Sort** ordena una lista como si estuviéramos ordenando cartas en la mano:\n",
    "\n",
    "1. Comienza desde el segundo elemento (índice 1).\n",
    "2. Compara ese elemento con los anteriores.\n",
    "3. Si el elemento actual es menor, se desplaza a la izquierda hasta encontrar su lugar correcto.\n",
    "4. Repite este proceso con cada elemento siguiente.\n",
    "\n",
    "**Ventajas:**\n",
    "- Simple de implementar.\n",
    "- Eficiente para listas pequeñas o casi ordenadas.\n",
    "\n",
    "**Desventajas:**\n",
    "- Ineficiente para listas grandes (complejidad O(n²)) en el peor caso.\n"
   ]
  },
  {
   "cell_type": "code",
   "execution_count": 1,
   "id": "4816edfc",
   "metadata": {},
   "outputs": [
    {
     "name": "stdout",
     "output_type": "stream",
     "text": [
      "Lista original: [9, 5, 1, 4, 3]\n",
      "Lista ordenada con Insertion Sort: [1, 3, 4, 5, 9]\n"
     ]
    }
   ],
   "source": [
    "def insertion_sort(arr):\n",
    "    for i in range(1, len(arr)):\n",
    "        key = arr[i]\n",
    "        j = i - 1\n",
    "        # Mueve los elementos mayores que key una posición adelante\n",
    "        while j >= 0 and arr[j] > key:\n",
    "            arr[j + 1] = arr[j]\n",
    "            j -= 1\n",
    "        arr[j + 1] = key\n",
    "    return arr\n",
    "\n",
    "# Ejemplo\n",
    "lista = [9, 5, 1, 4, 3]\n",
    "print(\"Lista original:\", lista)\n",
    "print(\"Lista ordenada con Insertion Sort:\", insertion_sort(lista))\n"
   ]
  },
  {
   "cell_type": "markdown",
   "id": "707a73bb",
   "metadata": {},
   "source": [
    "## Bubble Sort - Explicación Paso a Paso\n",
    "\n",
    "**Bubble Sort** compara elementos adyacentes y los intercambia si están en el orden incorrecto:\n",
    "\n",
    "1. Recorre toda la lista varias veces.\n",
    "2. En cada pasada, el valor más grande \"burbujea\" hacia el final.\n",
    "3. Repite el proceso hasta que la lista esté ordenada.\n",
    "\n",
    "**Ventajas:**\n",
    "- Fácil de entender e implementar.\n",
    "\n",
    "**Desventajas:**\n",
    "- Muy ineficiente para listas grandes (complejidad O(n²)).\n"
   ]
  },
  {
   "cell_type": "code",
   "execution_count": 2,
   "id": "051d560a",
   "metadata": {},
   "outputs": [
    {
     "name": "stdout",
     "output_type": "stream",
     "text": [
      "Lista original: [64, 34, 25, 12, 22, 11, 90]\n",
      "Lista ordenada con Bubble Sort: [11, 12, 22, 25, 34, 64, 90]\n"
     ]
    }
   ],
   "source": [
    "def bubble_sort(arr):\n",
    "    n = len(arr)\n",
    "    for i in range(n):\n",
    "        # Últimos i elementos ya están en su lugar\n",
    "        for j in range(0, n - i - 1):\n",
    "            # Intercambia si están en orden incorrecto\n",
    "            if arr[j] > arr[j + 1]:\n",
    "                arr[j], arr[j + 1] = arr[j + 1], arr[j]\n",
    "    return arr\n",
    "\n",
    "# Ejemplo\n",
    "lista = [64, 34, 25, 12, 22, 11, 90]\n",
    "print(\"Lista original:\", lista)\n",
    "print(\"Lista ordenada con Bubble Sort:\", bubble_sort(lista))\n"
   ]
  }
 ],
 "metadata": {
  "kernelspec": {
   "display_name": "Python 3",
   "language": "python",
   "name": "python3"
  },
  "language_info": {
   "codemirror_mode": {
    "name": "ipython",
    "version": 3
   },
   "file_extension": ".py",
   "mimetype": "text/x-python",
   "name": "python",
   "nbconvert_exporter": "python",
   "pygments_lexer": "ipython3",
   "version": "3.12.9"
  }
 },
 "nbformat": 4,
 "nbformat_minor": 5
}
